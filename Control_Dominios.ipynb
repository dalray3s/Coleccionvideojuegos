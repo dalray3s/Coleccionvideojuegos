{
  "nbformat": 4,
  "nbformat_minor": 0,
  "metadata": {
    "colab": {
      "provenance": [],
      "authorship_tag": "ABX9TyMTBS4XEhlYaDxwMcynzc8F",
      "include_colab_link": true
    },
    "kernelspec": {
      "name": "python3",
      "display_name": "Python 3"
    },
    "language_info": {
      "name": "python"
    }
  },
  "cells": [
    {
      "cell_type": "markdown",
      "metadata": {
        "id": "view-in-github",
        "colab_type": "text"
      },
      "source": [
        "<a href=\"https://colab.research.google.com/github/dalray3s/Coleccionvideojuegos/blob/main/Control_Dominios.ipynb\" target=\"_parent\"><img src=\"https://colab.research.google.com/assets/colab-badge.svg\" alt=\"Open In Colab\"/></a>"
      ]
    },
    {
      "cell_type": "code",
      "source": [
        "import requests\n",
        "\n",
        "def check_domains(domains): #defino variable\n",
        "  for domain in domains:\n",
        "    try:\n",
        "      response = requests.get(domain) #intento de respuesta a la funcion request al objeto domain\n",
        "      if response.status_code == 200: #condicional y espera que le devuleva el valor 200 ( SERVER OK )\n",
        "        print(f\"El dominio {domain} está activo.\")\n",
        "      else:\n",
        "        print(f\"El dominio {domain} no está activo.\")\n",
        "    except requests.exceptions.RequestException:  # Captura cualquier excepción RequestException\n",
        "      print(f\"El dominio {domain} no está activo.\")\n",
        "\n",
        "if __name__ == \"__main__\":\n",
        "  domains = [\"https://www.as.com\" ]\n",
        "  check_domains(domains)"
      ],
      "metadata": {
        "colab": {
          "base_uri": "https://localhost:8080/"
        },
        "id": "CFYKMY5GF1R9",
        "outputId": "77253750-85cb-47ad-aee4-9289d5986356"
      },
      "execution_count": null,
      "outputs": [
        
    {
      "cell_type": "code",
      "source": [
        "pip install pyinstaller\n"
      ],
      "metadata": {
        "colab": {
          "base_uri": "https://localhost:8080/"
        },
        "id": "LyVrq8sD1cVo",
        "outputId": "fd37a678-3b6d-48f2-9f8e-153b63d774ff"
      },
      "execution_count": 1,
      "outputs": [
        {
          "output_type": "stream",
          "name": "stdout",
          "text": [
            "Collecting pyinstaller\n",
            "  Downloading pyinstaller-6.11.0-py3-none-manylinux2014_x86_64.whl.metadata (8.4 kB)\n",
            "Requirement already satisfied: setuptools>=42.0.0 in /usr/local/lib/python3.10/dist-packages (from pyinstaller) (75.1.0)\n",
            "Collecting altgraph (from pyinstaller)\n",
            "  Downloading altgraph-0.17.4-py2.py3-none-any.whl.metadata (7.3 kB)\n",
            "Collecting pyinstaller-hooks-contrib>=2024.8 (from pyinstaller)\n",
            "  Downloading pyinstaller_hooks_contrib-2024.9-py3-none-any.whl.metadata (16 kB)\n",
            "Requirement already satisfied: packaging>=22.0 in /usr/local/lib/python3.10/dist-packages (from pyinstaller) (24.1)\n",
            "Downloading pyinstaller-6.11.0-py3-none-manylinux2014_x86_64.whl (707 kB)\n",
            "\u001b[2K   \u001b[90m━━━━━━━━━━━━━━━━━━━━━━━━━━━━━━━━━━━━━━━━\u001b[0m \u001b[32m707.9/707.9 kB\u001b[0m \u001b[31m21.1 MB/s\u001b[0m eta \u001b[36m0:00:00\u001b[0m\n",
            "\u001b[?25hDownloading pyinstaller_hooks_contrib-2024.9-py3-none-any.whl (336 kB)\n",
            "\u001b[2K   \u001b[90m━━━━━━━━━━━━━━━━━━━━━━━━━━━━━━━━━━━━━━━━\u001b[0m \u001b[32m337.0/337.0 kB\u001b[0m \u001b[31m7.0 MB/s\u001b[0m eta \u001b[36m0:00:00\u001b[0m\n",
            "\u001b[?25hDownloading altgraph-0.17.4-py2.py3-none-any.whl (21 kB)\n",
            "Installing collected packages: altgraph, pyinstaller-hooks-contrib, pyinstaller\n",
            "Successfully installed altgraph-0.17.4 pyinstaller-6.11.0 pyinstaller-hooks-contrib-2024.9\n"
          ]
        }
      ]
    },
    {
      "cell_type": "markdown",
      "source": [
        "#Pruebas para envio correo\n",
        "\n",
        "\n",
        "\n",
        "```\n",
        "# Tiene formato de código\n",
        "```\n",
        "\n"
      ],
      "metadata": {
        "id": "QMrGVMs8J7kr"
      }
    },
    {
      "cell_type": "code",
      "source": [
        "!pip install pyinstaller"
      ],
      "metadata": {
        "colab": {
          "base_uri": "https://localhost:8080/"
        },
        "id": "RES4W_91IpVu",
        "outputId": "246c546b-98bd-49f8-fa0b-317ef0e26c79"
      },
      "execution_count": null,
      "outputs": [
        {
          "output_type": "stream",
          "name": "stdout",
          "text": [
            "Collecting pyinstaller\n",
            "  Downloading pyinstaller-6.11.0-py3-none-manylinux2014_x86_64.whl.metadata (8.4 kB)\n",
            "Requirement already satisfied: setuptools>=42.0.0 in /usr/local/lib/python3.10/dist-packages (from pyinstaller) (75.1.0)\n",
            "Collecting altgraph (from pyinstaller)\n",
            "  Downloading altgraph-0.17.4-py2.py3-none-any.whl.metadata (7.3 kB)\n",
            "Collecting pyinstaller-hooks-contrib>=2024.8 (from pyinstaller)\n",
            "  Downloading pyinstaller_hooks_contrib-2024.9-py3-none-any.whl.metadata (16 kB)\n",
            "Requirement already satisfied: packaging>=22.0 in /usr/local/lib/python3.10/dist-packages (from pyinstaller) (24.1)\n",
            "Downloading pyinstaller-6.11.0-py3-none-manylinux2014_x86_64.whl (707 kB)\n",
            "\u001b[2K   \u001b[90m━━━━━━━━━━━━━━━━━━━━━━━━━━━━━━━━━━━━━━━━\u001b[0m \u001b[32m707.9/707.9 kB\u001b[0m \u001b[31m3.5 MB/s\u001b[0m eta \u001b[36m0:00:00\u001b[0m\n",
            "\u001b[?25hDownloading pyinstaller_hooks_contrib-2024.9-py3-none-any.whl (336 kB)\n",
            "\u001b[2K   \u001b[90m━━━━━━━━━━━━━━━━━━━━━━━━━━━━━━━━━━━━━━━━\u001b[0m \u001b[32m337.0/337.0 kB\u001b[0m \u001b[31m21.2 MB/s\u001b[0m eta \u001b[36m0:00:00\u001b[0m\n",
            "\u001b[?25hDownloading altgraph-0.17.4-py2.py3-none-any.whl (21 kB)\n",
            "Installing collected packages: altgraph, pyinstaller-hooks-contrib, pyinstaller\n",
            "Successfully installed altgraph-0.17.4 pyinstaller-6.11.0 pyinstaller-hooks-contrib-2024.9\n"
          ]
        }
      ]
    },
    {
      "cell_type": "code",
      "source": [],
      "metadata": {
        "id": "n3q1qgg6ItoN"
      },
      "execution_count": null,
      "outputs": []
    },
    {
      "cell_type": "code",
      "source": [
        "import requests\n",
        "\n",
        "def check_domain(domain):\n",
        "    try:\n",
        "        response = requests.get(domain)\n",
        "        if response.status_code == 200:\n",
        "            print(f\"El dominio {domain} está activo.\")\n",
        "        else:\n",
        "            print(f\"El dominio {domain} no está activo o tiene problemas.\")\n",
        "    except requests.exceptions.RequestException as e:\n",
        "        print(f\"Error al verificar el dominio: {e}\")\n",
        "\n",
        "if __name__ == \"__main__\":\n",
        "    domain = \"https://www.marca.com\"\n",
        "    check_domain(domain)"
      ],
      "metadata": {
        "colab": {
          "base_uri": "https://localhost:8080/"
        },
        "id": "OGNMmmbH-hyn",
        "outputId": "22167ae6-8f91-45bc-9360-471dfc84e6ec"
      },
      "execution_count": null,
      "outputs": [
        {
          "output_type": "stream",
          "name": "stdout",
          "text": [
            "El dominio https://www.marca.com está activo.\n"
          ]
        }
      ]
    },
    {
      "cell_type": "code",
      "source": [
        "import requests\n",
        "\n",
        "def check_domains(domains):\n",
        "    for domain in domains:\n",
        "        try:\n",
        "            response = requests.get(domain)\n",
        "            if response.status_code == 200:\n",
        "                print(f\"El dominio {domain} está activo.\")\n",
        "            else:\n",
        "                print(f\"El dominio {domain} no está activo.\")\n",
        "        except requests.exceptions.RequestException as e:\n",
        "            print(f\"Error al verificar el dominio {domain}: {e}\")\n",
        "\n",
        "if __name__ == \"__main__\":\n",
        "    domains = [\"https://www.saphir.es\", \"https://www.saphir.com\", \"https://www.saphir.net\", \"https://www.saphir.fr\", \"https://www.saphir.pt\", \"https://www.saphir.it\", \"https://www.saphir.uk\"]\n",
        "    check_domains(domains)"
      ],
      "metadata": {
        "colab": {
          "base_uri": "https://localhost:8080/"
        },
        "id": "7CHMiA-3-qZ9",
        "outputId": "2b6a4303-ccc0-4857-9ed4-a0ca12646e2e"
      },
      "execution_count": null,
      "outputs": [
        {
          "output_type": "stream",
          "name": "stdout",
          "text": [
            "El dominio https://www.saphir.es está activo.\n",
            "El dominio https://www.saphir.com está activo.\n",
            "Error al verificar el dominio https://www.saphir.net: HTTPSConnectionPool(host='www.saphir.net', port=443): Max retries exceeded with url: / (Caused by NameResolutionError(\"<urllib3.connection.HTTPSConnection object at 0x7ab6485a18a0>: Failed to resolve 'www.saphir.net' ([Errno -2] Name or service not known)\"))\n",
            "El dominio https://www.saphir.fr está activo.\n",
            "Error al verificar el dominio https://www.saphir.pt: HTTPSConnectionPool(host='www.saphir.pt', port=443): Max retries exceeded with url: / (Caused by NameResolutionError(\"<urllib3.connection.HTTPSConnection object at 0x7ab6485a2bf0>: Failed to resolve 'www.saphir.pt' ([Errno -2] Name or service not known)\"))\n",
            "El dominio https://www.saphir.it no está activo.\n",
            "El dominio https://www.saphir.uk está activo.\n"
          ]
        }
      ]
    },
    {
      "cell_type": "markdown",
      "source": [
        "Codigo con control de error"
      ],
      "metadata": {
        "id": "Wnk8o7Q3B5OL"
      }
    },
    {
      "cell_type": "code",
      "source": [
        "import requests\n",
        "\n",
        "def check_domains(domains):\n",
        "  for domain in domains:\n",
        "    try:\n",
        "      response = requests.get(domain)\n",
        "      if response.status_code == 200:\n",
        "        print(f\"El dominio {domain} está activo.\")\n",
        "      else:\n",
        "        print(f\"El dominio {domain} no está activo.\")\n",
        "    except requests.exceptions.RequestException as e:\n",
        "      # Manejo específico para NameResolutionError\n",
        "      if isinstance(e, requests.exceptions.ConnectionError):\n",
        "        print(f\"Error al verificar el dominio {domain}: \")\n",
        "      else:\n",
        "        print(f\"Error al verificar el dominio {domain}: {e}\")\n",
        "\n",
        "if __name__ == \"__main__\":\n",
        "  domains = [\"https://www.saphir.es\", \"https://www.saphir.com\", \"https://www.saphir.net\", \"https://www.saphir.fr\", \"https://www.saphir.pt\", \"https://www.saphir.it\", \"https://www.saphir.uk\", \"https://www.saphir.hu\"]\n",
        "  check_domains(domains)"
      ],
      "metadata": {
        "colab": {
          "base_uri": "https://localhost:8080/"
        },
        "id": "9JBjHvOcBoE4",
        "outputId": "8f3da91b-53b0-4c11-d3d4-12ad1a1635a7"
      },
      "execution_count": null,
      "outputs": [
        {
          "output_type": "stream",
          "name": "stdout",
          "text": [
            "El dominio https://www.saphir.es está activo.\n",
            "El dominio https://www.saphir.com está activo.\n",
            "Error al verificar el dominio https://www.saphir.net: \n",
            "El dominio https://www.saphir.fr está activo.\n",
            "Error al verificar el dominio https://www.saphir.pt: \n",
            "El dominio https://www.saphir.it no está activo.\n",
            "El dominio https://www.saphir.uk está activo.\n",
            "Error al verificar el dominio https://www.saphir.hu: \n"
          ]
        }
      ]
    },
    {
      "cell_type": "markdown",
      "source": [
        "Codigo para enviar por correo las respuestas"
      ],
      "metadata": {
        "id": "Y8OgfDzQBlbU"
      }
    },
    {
      "cell_type": "code",
      "source": [
        "import requests\n",
        "import smtplib\n",
        "from email.mime.text import MIMEText\n",
        "\n",
        "def check_domains(domains, email_sender, email_password, email_recipient):\n",
        "    results = \"\"\n",
        "    for domain in domains:\n",
        "        try:\n",
        "            response = requests.get(domain)\n",
        "            if response.status_code == 200:\n",
        "                results += f\"El dominio {domain} está activo.\\n\"\n",
        "            else:\n",
        "                results += f\"El dominio {domain} no está activo o tiene problemas.\\n\"\n",
        "        except requests.exceptions.RequestException as e:\n",
        "            results += f\"Error al verificar el dominio {domain}: {e}\\n\"\n",
        "\n",
        "    # Configuración del correo electrónico\n",
        "    message = MIMEText(results)\n",
        "    message['From'] = email_sender\n",
        "    message['To'] = email_recipient\n",
        "    message['Subject'] = 'Reporte de verificación de dominios'\n",
        "\n",
        "    with smtplib.SMTP('smtp.gmail.com', 587) as smtp:\n",
        "        smtp.starttls()\n",
        "        smtp.login(email_sender, email_password)\n",
        "        smtp.sendmail(email_sender, email_recipient,\n",
        " message.as_string())\n",
        "\n",
        "if __name__ == \"__main__\":\n",
        "    domains = [\"https://www.saphir.es\", \"https://www.google.com\", \"http://ejemplo.com\"]\n",
        "    email_sender = \"\"  # Reemplaza con tu correo\n",
        "    email_password = \"\"  # Reemplaza con tu contraseña\n",
        "    email_recipient = \"\"  # Reemplaza con el correo del destinatario\n",
        "\n",
        "    check_domains(domains, email_sender, email_password, email_recipient)"
      ],
      "metadata": {
        "colab": {
          "base_uri": "https://localhost:8080/",
          "height": 321
        },
        "id": "aI8xT_qg-6Pr",
        "outputId": "522469e2-e6de-4687-954c-44d76e7fb556",
        "collapsed": true
      },
      "execution_count": null,
      "outputs": [
        {
          "output_type": "error",
          "ename": "SMTPAuthenticationError",
          "evalue": "(535, b'5.7.8 Username and Password not accepted. For more information, go to\\n5.7.8  https://support.google.com/mail/?p=BadCredentials a640c23a62f3a-a9b3a083466sm439224266b.193 - gsmtp')",
          "traceback": [
            "\u001b[0;31m---------------------------------------------------------------------------\u001b[0m",
            "\u001b[0;31mSMTPAuthenticationError\u001b[0m                   Traceback (most recent call last)",
            "\u001b[0;32m<ipython-input-13-8e6c121b5293>\u001b[0m in \u001b[0;36m<cell line: 29>\u001b[0;34m()\u001b[0m\n\u001b[1;32m     33\u001b[0m     \u001b[0memail_recipient\u001b[0m \u001b[0;34m=\u001b[0m \u001b[0;34m\"\"\u001b[0m  \u001b[0;31m# Reemplaza con el correo del destinatario\u001b[0m\u001b[0;34m\u001b[0m\u001b[0;34m\u001b[0m\u001b[0m\n\u001b[1;32m     34\u001b[0m \u001b[0;34m\u001b[0m\u001b[0m\n\u001b[0;32m---> 35\u001b[0;31m     \u001b[0mcheck_domains\u001b[0m\u001b[0;34m(\u001b[0m\u001b[0mdomains\u001b[0m\u001b[0;34m,\u001b[0m \u001b[0memail_sender\u001b[0m\u001b[0;34m,\u001b[0m \u001b[0memail_password\u001b[0m\u001b[0;34m,\u001b[0m \u001b[0memail_recipient\u001b[0m\u001b[0;34m)\u001b[0m\u001b[0;34m\u001b[0m\u001b[0;34m\u001b[0m\u001b[0m\n\u001b[0m",
            "\u001b[0;32m<ipython-input-13-8e6c121b5293>\u001b[0m in \u001b[0;36mcheck_domains\u001b[0;34m(domains, email_sender, email_password, email_recipient)\u001b[0m\n\u001b[1;32m     23\u001b[0m     \u001b[0;32mwith\u001b[0m \u001b[0msmtplib\u001b[0m\u001b[0;34m.\u001b[0m\u001b[0mSMTP\u001b[0m\u001b[0;34m(\u001b[0m\u001b[0;34m'smtp.gmail.com'\u001b[0m\u001b[0;34m,\u001b[0m \u001b[0;36m587\u001b[0m\u001b[0;34m)\u001b[0m \u001b[0;32mas\u001b[0m \u001b[0msmtp\u001b[0m\u001b[0;34m:\u001b[0m\u001b[0;34m\u001b[0m\u001b[0;34m\u001b[0m\u001b[0m\n\u001b[1;32m     24\u001b[0m         \u001b[0msmtp\u001b[0m\u001b[0;34m.\u001b[0m\u001b[0mstarttls\u001b[0m\u001b[0;34m(\u001b[0m\u001b[0;34m)\u001b[0m\u001b[0;34m\u001b[0m\u001b[0;34m\u001b[0m\u001b[0m\n\u001b[0;32m---> 25\u001b[0;31m         \u001b[0msmtp\u001b[0m\u001b[0;34m.\u001b[0m\u001b[0mlogin\u001b[0m\u001b[0;34m(\u001b[0m\u001b[0memail_sender\u001b[0m\u001b[0;34m,\u001b[0m \u001b[0memail_password\u001b[0m\u001b[0;34m)\u001b[0m\u001b[0;34m\u001b[0m\u001b[0;34m\u001b[0m\u001b[0m\n\u001b[0m\u001b[1;32m     26\u001b[0m         smtp.sendmail(email_sender, email_recipient, \n\u001b[1;32m     27\u001b[0m  message.as_string())\n",
            "\u001b[0;32m/usr/lib/python3.10/smtplib.py\u001b[0m in \u001b[0;36mlogin\u001b[0;34m(self, user, password, initial_response_ok)\u001b[0m\n\u001b[1;32m    748\u001b[0m \u001b[0;34m\u001b[0m\u001b[0m\n\u001b[1;32m    749\u001b[0m         \u001b[0;31m# We could not login successfully.  Return result of last attempt.\u001b[0m\u001b[0;34m\u001b[0m\u001b[0;34m\u001b[0m\u001b[0m\n\u001b[0;32m--> 750\u001b[0;31m         \u001b[0;32mraise\u001b[0m \u001b[0mlast_exception\u001b[0m\u001b[0;34m\u001b[0m\u001b[0;34m\u001b[0m\u001b[0m\n\u001b[0m\u001b[1;32m    751\u001b[0m \u001b[0;34m\u001b[0m\u001b[0m\n\u001b[1;32m    752\u001b[0m     \u001b[0;32mdef\u001b[0m \u001b[0mstarttls\u001b[0m\u001b[0;34m(\u001b[0m\u001b[0mself\u001b[0m\u001b[0;34m,\u001b[0m \u001b[0mkeyfile\u001b[0m\u001b[0;34m=\u001b[0m\u001b[0;32mNone\u001b[0m\u001b[0;34m,\u001b[0m \u001b[0mcertfile\u001b[0m\u001b[0;34m=\u001b[0m\u001b[0;32mNone\u001b[0m\u001b[0;34m,\u001b[0m \u001b[0mcontext\u001b[0m\u001b[0;34m=\u001b[0m\u001b[0;32mNone\u001b[0m\u001b[0;34m)\u001b[0m\u001b[0;34m:\u001b[0m\u001b[0;34m\u001b[0m\u001b[0;34m\u001b[0m\u001b[0m\n",
            "\u001b[0;32m/usr/lib/python3.10/smtplib.py\u001b[0m in \u001b[0;36mlogin\u001b[0;34m(self, user, password, initial_response_ok)\u001b[0m\n\u001b[1;32m    737\u001b[0m             \u001b[0mmethod_name\u001b[0m \u001b[0;34m=\u001b[0m \u001b[0;34m'auth_'\u001b[0m \u001b[0;34m+\u001b[0m \u001b[0mauthmethod\u001b[0m\u001b[0;34m.\u001b[0m\u001b[0mlower\u001b[0m\u001b[0;34m(\u001b[0m\u001b[0;34m)\u001b[0m\u001b[0;34m.\u001b[0m\u001b[0mreplace\u001b[0m\u001b[0;34m(\u001b[0m\u001b[0;34m'-'\u001b[0m\u001b[0;34m,\u001b[0m \u001b[0;34m'_'\u001b[0m\u001b[0;34m)\u001b[0m\u001b[0;34m\u001b[0m\u001b[0;34m\u001b[0m\u001b[0m\n\u001b[1;32m    738\u001b[0m             \u001b[0;32mtry\u001b[0m\u001b[0;34m:\u001b[0m\u001b[0;34m\u001b[0m\u001b[0;34m\u001b[0m\u001b[0m\n\u001b[0;32m--> 739\u001b[0;31m                 (code, resp) = self.auth(\n\u001b[0m\u001b[1;32m    740\u001b[0m                     \u001b[0mauthmethod\u001b[0m\u001b[0;34m,\u001b[0m \u001b[0mgetattr\u001b[0m\u001b[0;34m(\u001b[0m\u001b[0mself\u001b[0m\u001b[0;34m,\u001b[0m \u001b[0mmethod_name\u001b[0m\u001b[0;34m)\u001b[0m\u001b[0;34m,\u001b[0m\u001b[0;34m\u001b[0m\u001b[0;34m\u001b[0m\u001b[0m\n\u001b[1;32m    741\u001b[0m                     initial_response_ok=initial_response_ok)\n",
            "\u001b[0;32m/usr/lib/python3.10/smtplib.py\u001b[0m in \u001b[0;36mauth\u001b[0;34m(self, mechanism, authobject, initial_response_ok)\u001b[0m\n\u001b[1;32m    660\u001b[0m         \u001b[0;32mif\u001b[0m \u001b[0mcode\u001b[0m \u001b[0;32min\u001b[0m \u001b[0;34m(\u001b[0m\u001b[0;36m235\u001b[0m\u001b[0;34m,\u001b[0m \u001b[0;36m503\u001b[0m\u001b[0;34m)\u001b[0m\u001b[0;34m:\u001b[0m\u001b[0;34m\u001b[0m\u001b[0;34m\u001b[0m\u001b[0m\n\u001b[1;32m    661\u001b[0m             \u001b[0;32mreturn\u001b[0m \u001b[0;34m(\u001b[0m\u001b[0mcode\u001b[0m\u001b[0;34m,\u001b[0m \u001b[0mresp\u001b[0m\u001b[0;34m)\u001b[0m\u001b[0;34m\u001b[0m\u001b[0;34m\u001b[0m\u001b[0m\n\u001b[0;32m--> 662\u001b[0;31m         \u001b[0;32mraise\u001b[0m \u001b[0mSMTPAuthenticationError\u001b[0m\u001b[0;34m(\u001b[0m\u001b[0mcode\u001b[0m\u001b[0;34m,\u001b[0m \u001b[0mresp\u001b[0m\u001b[0;34m)\u001b[0m\u001b[0;34m\u001b[0m\u001b[0;34m\u001b[0m\u001b[0m\n\u001b[0m\u001b[1;32m    663\u001b[0m \u001b[0;34m\u001b[0m\u001b[0m\n\u001b[1;32m    664\u001b[0m     \u001b[0;32mdef\u001b[0m \u001b[0mauth_cram_md5\u001b[0m\u001b[0;34m(\u001b[0m\u001b[0mself\u001b[0m\u001b[0;34m,\u001b[0m \u001b[0mchallenge\u001b[0m\u001b[0;34m=\u001b[0m\u001b[0;32mNone\u001b[0m\u001b[0;34m)\u001b[0m\u001b[0;34m:\u001b[0m\u001b[0;34m\u001b[0m\u001b[0;34m\u001b[0m\u001b[0m\n",
            "\u001b[0;31mSMTPAuthenticationError\u001b[0m: (535, b'5.7.8 Username and Password not accepted. For more information, go to\\n5.7.8  https://support.google.com/mail/?p=BadCredentials a640c23a62f3a-a9b3a083466sm439224266b.193 - gsmtp')"
          ]
        }
      ]
    },
    {
      "cell_type": "markdown",
      "source": [
        "con json"
      ],
      "metadata": {
        "id": "I_nsT-4Kh-AG"
      }
    },
    {
      "cell_type": "code",
      "source": [
        "import json\n",
        "import requests\n",
        "\n",
        "def check_domains(domains):\n",
        "    for domain in domains:\n",
        "        try:\n",
        "            response = requests.get(domain)\n",
        "            if response.status_code == 200:\n",
        "                print(f\"El dominio {domain} está activo.\")\n",
        "            else:\n",
        "                print(f\"El dominio {domain} no está activo (código de estado: {response.status_code}).\")\n",
        "        except requests.exceptions.RequestException as e:\n",
        "            print(f\"Error al comprobar el dominio {domain}: {e}\")\n",
        "\n",
        "if __name__ == \"__main__\":\n",
        "    with open('dominios.json', 'r') as f:\n",
        "        domains = json.load(f)\n",
        "    check_domains(domains)"
      ],
      "metadata": {
        "id": "ZfLjJS26iGNd"
      },
      "execution_count": null,
      "outputs": []
    }
  ]
}
